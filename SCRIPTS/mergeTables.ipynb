{
 "cells": [
  {
   "attachments": {},
   "cell_type": "markdown",
   "metadata": {},
   "source": [
    "# Merge two files into one.\n",
    "#\n",
    "# Description: \tmerges two files based on some key-column into one file. The lines do not \n",
    "#               have to be sorted.\n",
    "#\n",
    "# Original written and published by:\n",
    "# \t\t* Paul I.W. de Bakker, piwdebakker@mac.com\n",
    "#\t\t* 4 July 2009\n",
    "#\n",
    "# Written by: \tBram van Es; Utrecht, the Netherlands\n",
    "#\t\t\t\tbramiozo@gmail.com\n",
    "# Suggest by:\tSander W. van der Laan; Utrecht, the Netherlands; \n",
    "#               s.w.vanderlaan@gmail.com.\n",
    "# Version:\t\t2.0\n",
    "# Update date: \t2023-04-26\n",
    "#\n",
    "# Usage:\t\tpython mergeTables.py --file1 [INPUT_FILE_1] --file2 [INPUT_FILE_2] --out-file [OUTPUT_FILE] (optional: --help)\n",
    "\n",
    "# TO DO\n",
    "# --index [INDEX_STRING] add name of index column\n",
    "# --format [GZIP1/GZIP2/GZIPB/NORM] add format \n",
    "# (optional: --replace) add option to replace column contents\n",
    "# Starting merging\n"
   ]
  },
  {
   "attachments": {},
   "cell_type": "markdown",
   "metadata": {},
   "source": [
    "Load required packages."
   ]
  },
  {
   "cell_type": "code",
   "execution_count": 4,
   "metadata": {},
   "outputs": [
    {
     "name": "stdout",
     "output_type": "stream",
     "text": [
      "The autoreload extension is already loaded. To reload it, use:\n",
      "  %reload_ext autoreload\n"
     ]
    }
   ],
   "source": [
    "%load_ext autoreload\n",
    "%autoreload 2 \n",
    "\n",
    "# import pandas as pd\n",
    "import polars as pl\n",
    "import argparse\n",
    "import magic\n",
    "import gzip\n",
    "import time\n",
    "\n",
    "from argparse import RawTextHelpFormatter"
   ]
  },
  {
   "cell_type": "code",
   "execution_count": 5,
   "metadata": {},
   "outputs": [],
   "source": [
    "start = time.time()\n",
    "\n",
    "def detect_delimiter(file_path):\n",
    "    with open(file_path, \"rb\") as f:\n",
    "        # Read first 10KB of the file to determine the delimiter\n",
    "        sample = f.read(10240)\n",
    "        if b\" \" in sample:\n",
    "            return \" \"\n",
    "        else:\n",
    "            return \"\\t\""
   ]
  },
  {
   "cell_type": "code",
   "execution_count": 15,
   "metadata": {},
   "outputs": [],
   "source": [
    "if __name__ == '__main__':\n",
    "    parser = argparse.ArgumentParser(description='''\n",
    "        + mergeTables 2.0 +\n",
    "\n",
    "        This script joins file1 and file2 based on the VariantID column. The VariantID column must be\n",
    "        the first column in both files. The output file will be compressed with gzip.\n",
    "\n",
    "        This is an example call:\n",
    "\n",
    "        python3 mergeTables.py --in_file1 /variants.txt.gz --in_file2 /sumstats.txt.gz --indexID VariantID --out_file /joined.txt.gz [optional --replace replaces contents of given column with overlapping file1/2 column]\n",
    "        ''',\n",
    "        epilog='''\n",
    "        + Copyright 1979-2023. Bram van Es & Sander W. van der Laan | s.w.vanderlaan@gmail.com | https://vanderlaan.science +''', \n",
    "        formatter_class=RawTextHelpFormatter)\n",
    "\n",
    "    # parser.add_argument('--in_file1', type=str, required=True)\n",
    "    # parser.add_argument('--in_file2', type=str, required=True)\n",
    "    # parser.add_argument('--indexID', type=str, required=True)\n",
    "    # parser.add_argument('--replace', type=str, required=False)\n",
    "    # parser.add_argument('--out_file', type=str, required=True)\n",
    "\n",
    "    # args = parser.parse_args()\n",
    "\n",
    "    # in_file1 = args.in_file1\n",
    "    # in_file2 = args.in_file2\n",
    "    # indexID = args.indexID\n",
    "    # out_file = args.out_file\n",
    "\n",
    "indexID = \"VariantID\"\n",
    "in_file1 = \"/Users/slaan3/PLINK/_AE_ORIGINALS/AEGS_COMBINED_EAGLE2_1000Gp3v5HRCr11/TEST1.aegs.qc.1kgp3hrcr11.idfix.variants.rsIDs.txt.gz\" # parser.parse_args().in_file1\n",
    "in_file2 = \"/Users/slaan3/PLINK/_AE_ORIGINALS/AEGS_COMBINED_EAGLE2_1000Gp3v5HRCr11/TEST2.aegs.qc.1kgp3hrcr11.sumstats.extract4match.txt.gz\" # parser.parse_args().in_file2\n",
    "out_file = \"/Users/slaan3/PLINK/_AE_ORIGINALS/AEGS_COMBINED_EAGLE2_1000Gp3v5HRCr11/test.yupiter.txt.gz\" # parser.parse_args().out_file\n",
    "\n",
    "# print(in_file1.head(10))\n",
    "\n",
    "\n",
    "\n",
    "#"
   ]
  },
  {
   "cell_type": "code",
   "execution_count": 16,
   "metadata": {},
   "outputs": [
    {
     "name": "stdout",
     "output_type": "stream",
     "text": [
      "\n",
      "+ mergeTables 2.0 +\n",
      "\n",
      "   Starting merging the following files:\n",
      "     > [/Users/slaan3/PLINK/_AE_ORIGINALS/AEGS_COMBINED_EAGLE2_1000Gp3v5HRCr11/TEST1.aegs.qc.1kgp3hrcr11.idfix.variants.rsIDs.txt.gz]\n",
      "     > [/Users/slaan3/PLINK/_AE_ORIGINALS/AEGS_COMBINED_EAGLE2_1000Gp3v5HRCr11/TEST2.aegs.qc.1kgp3hrcr11.sumstats.extract4match.txt.gz]\n",
      "\n",
      "   Index set to [VariantID]\n",
      "\n",
      "   Output will be written to [/Users/slaan3/PLINK/_AE_ORIGINALS/AEGS_COMBINED_EAGLE2_1000Gp3v5HRCr11/test.yupiter.txt.gz]\n"
     ]
    },
    {
     "ename": "FileNotFoundError",
     "evalue": "[Errno 2] No such file or directory: '/Users/slaan3/PLINK/_AE_ORIGINALS/AEGS_COMBINED_EAGLE2_1000Gp3v5HRCr11/TEST1.aegs.qc.1kgp3hrcr11.idfix.variants.rsIDs.txt.gz'",
     "output_type": "error",
     "traceback": [
      "\u001b[0;31m---------------------------------------------------------------------------\u001b[0m",
      "\u001b[0;31mFileNotFoundError\u001b[0m                         Traceback (most recent call last)",
      "Cell \u001b[0;32mIn[16], line 10\u001b[0m\n\u001b[1;32m      8\u001b[0m \u001b[39m# Detect file type using magic\u001b[39;00m\n\u001b[1;32m      9\u001b[0m mime \u001b[39m=\u001b[39m magic\u001b[39m.\u001b[39mMagic(mime\u001b[39m=\u001b[39m\u001b[39mTrue\u001b[39;00m)\n\u001b[0;32m---> 10\u001b[0m is_gzip1 \u001b[39m=\u001b[39m mime\u001b[39m.\u001b[39;49mfrom_file(in_file1) \u001b[39m==\u001b[39m \u001b[39m'\u001b[39m\u001b[39mapplication/x-gzip\u001b[39m\u001b[39m'\u001b[39m\n\u001b[1;32m     11\u001b[0m is_gzip1_time \u001b[39m=\u001b[39m time\u001b[39m.\u001b[39mtime()\n\u001b[1;32m     12\u001b[0m \u001b[39mprint\u001b[39m(\u001b[39mf\u001b[39m\u001b[39m\"\u001b[39m\u001b[39mElapsed time: \u001b[39m\u001b[39m{\u001b[39;00mis_gzip1_time\u001b[39m \u001b[39m\u001b[39m-\u001b[39m\u001b[39m \u001b[39mstart\u001b[39m}\u001b[39;00m\u001b[39m\"\u001b[39m)\n",
      "File \u001b[0;32m~/miniconda3/envs/cp4/lib/python3.8/site-packages/magic/__init__.py:112\u001b[0m, in \u001b[0;36mMagic.from_file\u001b[0;34m(self, filename)\u001b[0m\n\u001b[1;32m    110\u001b[0m \u001b[39mdef\u001b[39;00m \u001b[39mfrom_file\u001b[39m(\u001b[39mself\u001b[39m, filename):\n\u001b[1;32m    111\u001b[0m     \u001b[39m# raise FileNotFoundException or IOError if the file does not exist\u001b[39;00m\n\u001b[0;32m--> 112\u001b[0m     \u001b[39mwith\u001b[39;00m _real_open(filename):\n\u001b[1;32m    113\u001b[0m         \u001b[39mpass\u001b[39;00m\n\u001b[1;32m    115\u001b[0m     \u001b[39mwith\u001b[39;00m \u001b[39mself\u001b[39m\u001b[39m.\u001b[39mlock:\n",
      "\u001b[0;31mFileNotFoundError\u001b[0m: [Errno 2] No such file or directory: '/Users/slaan3/PLINK/_AE_ORIGINALS/AEGS_COMBINED_EAGLE2_1000Gp3v5HRCr11/TEST1.aegs.qc.1kgp3hrcr11.idfix.variants.rsIDs.txt.gz'"
     ]
    }
   ],
   "source": [
    "    print(\"\\n+ mergeTables 2.0 +\")\n",
    "    print(f\"\\n   Starting merging the following files:\")\n",
    "    print(f\"     > [{in_file1}]\")\n",
    "    print(f\"     > [{in_file2}]\")\n",
    "    print(f\"\\n   Index set to [{indexID}]\")\n",
    "    print(f\"\\n   Output will be written to [{out_file}]\")\n",
    "\n",
    "    # Detect file type using magic\n",
    "    mime = magic.Magic(mime=True)\n",
    "    is_gzip1 = mime.from_file(in_file1) == 'application/x-gzip'\n",
    "    is_gzip1_time = time.time()\n",
    "    print(f\"Elapsed time: {is_gzip1_time - start}\")\n",
    "\n",
    "    is_gzip2 = mime.from_file(in_file2) == 'application/x-gzip'\n",
    "    is_gzip2_time = time.time()\n",
    "    print(f\"Elapsed time: {is_gzip2_time - is_gzip1_time}\")"
   ]
  },
  {
   "cell_type": "code",
   "execution_count": 17,
   "metadata": {},
   "outputs": [
    {
     "ename": "IndentationError",
     "evalue": "unexpected indent (973938433.py, line 2)",
     "output_type": "error",
     "traceback": [
      "\u001b[0;36m  Cell \u001b[0;32mIn[17], line 2\u001b[0;36m\u001b[0m\n\u001b[0;31m    if is_gzip1:\u001b[0m\n\u001b[0m    ^\u001b[0m\n\u001b[0;31mIndentationError\u001b[0m\u001b[0;31m:\u001b[0m unexpected indent\n"
     ]
    }
   ],
   "source": [
    "# Detect file delimiter \n",
    "    if is_gzip1:\n",
    "        with gzip.open(in_file1) as f:\n",
    "            file1_delimiter = detect_delimiter(in_file1)\n",
    "            file1 = pl.read_csv(in_file1, separator=file1_delimiter)\n",
    "    else:\n",
    "        with open(in_file1) as f:\n",
    "            file1_delimiter = detect_delimiter(in_file1)\n",
    "            file1 = pl.read_csv(in_file1, separator=file1_delimiter)\n",
    "    \n",
    "    file1_delimiter_t = time.time()\n",
    "    print(f\"Elapsed time: {file1_delimiter_t - is_gzip2_time}\")\n",
    "\n",
    "    if is_gzip2:\n",
    "        with gzip.open(in_file2) as f:\n",
    "            file2_delimiter = detect_delimiter(in_file2)\n",
    "            file2 = pl.read_csv(in_file1, separator=file2_delimiter)\n",
    "    else:\n",
    "        with open(in_file2) as f:\n",
    "            file2_delimiter = detect_delimiter(in_file2)\n",
    "            file2 = pl.read_csv(in_file1, separator=file2_delimiter)\n",
    "   \n",
    "    file2_delimiter_t = time.time()\n",
    "    print(f\"Elapsed time: {file2_delimiter_t - file1_delimiter_t}\")\n",
    "\n",
    "    print(f\"\\n   Detected files types:\")\n",
    "    print(f\"     > File1 gzipped? {is_gzip1}\")\n",
    "    print(f\"     > File2 gzipped? {is_gzip1}\")\n",
    "\n",
    "    print(f\"\\n   Detected the following delimiters:\")\n",
    "    print(f\"     > File1: [{file1_delimiter}].\")\n",
    "    print(f\"     > File2: [{file2_delimiter}].\")"
   ]
  },
  {
   "cell_type": "code",
   "execution_count": 18,
   "metadata": {},
   "outputs": [
    {
     "ename": "IndentationError",
     "evalue": "unexpected indent (2851812449.py, line 2)",
     "output_type": "error",
     "traceback": [
      "\u001b[0;36m  Cell \u001b[0;32mIn[18], line 2\u001b[0;36m\u001b[0m\n\u001b[0;31m    print(f\"\\n   Opening file1...\")\u001b[0m\n\u001b[0m    ^\u001b[0m\n\u001b[0;31mIndentationError\u001b[0m\u001b[0;31m:\u001b[0m unexpected indent\n"
     ]
    }
   ],
   "source": [
    " # Read files using polars\n",
    "    print(f\"\\n   Opening file1...\")\n",
    "    if is_gzip1:\n",
    "        file1 = pl.read_csv(gzip.open(in_file1), separator=str(file1_delimiter))\n",
    "    else:\n",
    "        file1 = pl.read_csv(in_file1, separator=str(file1_delimiter))\n",
    "\n",
    "    file1_t = time.time()\n",
    "    print(f\"Elapsed time: {file1_t - file2_delimiter_t}\")\n",
    "\n",
    "    print(f\"\\n   Opening file2...\")\n",
    "    if is_gzip1:\n",
    "        file2 = pl.read_csv(gzip.open(in_file1), separator=str(file1_delimiter))\n",
    "    else:\n",
    "        file2 = pl.read_csv(in_file2, separator=str(file1_delimiter))\n",
    "    file2_t = time.time()\n",
    "    print(f\"Elapsed time: {file2_t - file1_t}\")"
   ]
  },
  {
   "cell_type": "code",
   "execution_count": 19,
   "metadata": {},
   "outputs": [
    {
     "ename": "NameError",
     "evalue": "name 'file1' is not defined",
     "output_type": "error",
     "traceback": [
      "\u001b[0;31m---------------------------------------------------------------------------\u001b[0m",
      "\u001b[0;31mNameError\u001b[0m                                 Traceback (most recent call last)",
      "Cell \u001b[0;32mIn[19], line 1\u001b[0m\n\u001b[0;32m----> 1\u001b[0m new_df \u001b[39m=\u001b[39m file1\u001b[39m.\u001b[39mjoin(file2, on\u001b[39m=\u001b[39mindexID, how\u001b[39m=\u001b[39m\u001b[39m'\u001b[39m\u001b[39minner\u001b[39m\u001b[39m'\u001b[39m)\n",
      "\u001b[0;31mNameError\u001b[0m: name 'file1' is not defined"
     ]
    }
   ],
   "source": [
    "new_df = file1.join(file2, on=indexID, how='inner')\n"
   ]
  },
  {
   "cell_type": "code",
   "execution_count": 20,
   "metadata": {},
   "outputs": [
    {
     "ename": "NameError",
     "evalue": "name 'new_df' is not defined",
     "output_type": "error",
     "traceback": [
      "\u001b[0;31m---------------------------------------------------------------------------\u001b[0m",
      "\u001b[0;31mNameError\u001b[0m                                 Traceback (most recent call last)",
      "Cell \u001b[0;32mIn[20], line 1\u001b[0m\n\u001b[0;32m----> 1\u001b[0m new_df\u001b[39m.\u001b[39mwrite_csv(out_file, \n\u001b[1;32m      2\u001b[0m                          has_header\u001b[39m=\u001b[39m\u001b[39mTrue\u001b[39;00m, separator\u001b[39m=\u001b[39m\u001b[39m'\u001b[39m\u001b[39m \u001b[39m\u001b[39m'\u001b[39m, null_value\u001b[39m=\u001b[39m\u001b[39m'\u001b[39m\u001b[39mNA\u001b[39m\u001b[39m'\u001b[39m,\n\u001b[1;32m      3\u001b[0m                          batch_size\u001b[39m=\u001b[39m\u001b[39m1024\u001b[39m)\n\u001b[1;32m      4\u001b[0m new_df_t \u001b[39m=\u001b[39m time\u001b[39m.\u001b[39mtime()\n\u001b[1;32m      5\u001b[0m \u001b[39mprint\u001b[39m(\u001b[39mf\u001b[39m\u001b[39m\"\u001b[39m\u001b[39mElapsed time: \u001b[39m\u001b[39m{\u001b[39;00mnew_df_t\u001b[39m \u001b[39m\u001b[39m-\u001b[39m\u001b[39m \u001b[39mfile2_t\u001b[39m}\u001b[39;00m\u001b[39m\"\u001b[39m)\n",
      "\u001b[0;31mNameError\u001b[0m: name 'new_df' is not defined"
     ]
    }
   ],
   "source": [
    "new_df.write_csv(out_file, \n",
    "                         has_header=True, separator=' ', null_value='NA',\n",
    "                         batch_size=1024)\n",
    "new_df_t = time.time()\n",
    "print(f\"Elapsed time: {new_df_t - file2_t}\")\n",
    "\n",
    "end = time.time()\n",
    "print(f\"Elapsed time: {end - start}\")\n",
    "\n",
    "print(\"\\n   Wow, all done. Let's have a beer buddy!\\n\")\n",
    "print(\"+ Copyright 1979-2023. Bram van Es & Sander W. van der Laan | s.w.vanderlaan@gmail.com | https://vanderlaan.science +\")\n"
   ]
  }
 ],
 "metadata": {
  "kernelspec": {
   "display_name": "cp4",
   "language": "python",
   "name": "python3"
  },
  "language_info": {
   "codemirror_mode": {
    "name": "ipython",
    "version": 3
   },
   "file_extension": ".py",
   "mimetype": "text/x-python",
   "name": "python",
   "nbconvert_exporter": "python",
   "pygments_lexer": "ipython3",
   "version": "3.8.0"
  },
  "orig_nbformat": 4
 },
 "nbformat": 4,
 "nbformat_minor": 2
}
